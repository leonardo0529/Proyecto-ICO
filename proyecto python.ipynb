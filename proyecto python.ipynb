{
 "cells": [
  {
   "cell_type": "code",
   "execution_count": 1,
   "metadata": {},
   "outputs": [],
   "source": [
    "import math\n",
    "import numpy as np"
   ]
  },
  {
   "cell_type": "code",
   "execution_count": 5,
   "metadata": {},
   "outputs": [],
   "source": [
    "#Los temas que tienes las clases que se ocuparan\n",
    "Algebra = {\"factorización\",\"leyes de los signos\",\n",
    "                \"leyes de los exponentes\",\"productos notables\",\"leyes de los logaritmos\"\n",
    "                ,\"valor absoluto\",\"igualdades y desigualdades\",\"sistemas de ecuaciones\"\n",
    "                ,\"problemas con lenguaje algebraico\"}\n",
    "Trigonometria={\"tipos de triangulos\",\"angulos de un triangulo\",\"funciones trigonometricas\",\n",
    "                               \"teorema de pitagoras\",\"ley de senos\",\"ley de cosenos\"}\n",
    "Geometria_analitica={\"vectores\",\"distancia entre dos puntos, ecauciones de la recta \",\"caracterisitcas de las rectas paralelas y perpendicualares en el plano\",\n",
    "                                      \"cirunferencia\",\"parabola\",\"elipse\",\"hiperbola\"}\n",
    "Calculo={\"tipos de funciones\",\"dominio y rango de una funcion\",\"operaciones con funicones\",\"limite de una funcion\",\"derivada\",\"integral\"}\n",
    "    \n"
   ]
  },
  {
   "cell_type": "code",
   "execution_count": 11,
   "metadata": {},
   "outputs": [
    {
     "name": "stdout",
     "output_type": "stream",
     "text": [
      "Introdusca un nombre de usuario:  Leo\n",
      "Bienvenido Leo: ¿En qué materia de matemáticas tinenes dudas? Trigonometria\n",
      "Estos son los temas de Trigonometria: {'funciones trigonometricas', 'tipos de triangulos', 'ley de cosenos', 'angulos de un triangulo', 'ley de senos', 'teorema de pitagoras'}\n",
      "Introdusca: su_nombre=Mate(),para poder acceder a la clase,despues introdusca nombre.Trigonometria1(tema_duda)\n"
     ]
    }
   ],
   "source": [
    "usuario=input(\"Introdusca un nombre de usuario:  \")\n",
    "materia_duda=input(f\"Bienvenido {usuario}: ¿En qué materia de matemáticas tinenes dudas? \")\n",
    "if materia_duda == \"Algebra\":\n",
    "    print (f\"Estos son los temas de Algebra: {Algebra}\\nIntrodusca: su_nombre=Mate(),para poder acceder a la clase, despues introdusca nombre.Algebra(tema_duda)\")\n",
    "elif materia_duda ==\"Trigonometria\":\n",
    "    print (f\"Estos son los temas de Trigonometria: {Trigonometria}\\nIntrodusca: su_nombre=Mate(),para poder acceder a la clase,despues introdusca nombre.Trigonometria1(tema_duda)\")\n",
    "elif materia_duda==\"Geometria_Analitca\":\n",
    "    print(f\"Estos son los temas de Geometria_Analitica: {Geometria_analitica}\\nIntrodusca su_nombre=Mate(),para poder acceder a la clase,despues introdusca nombre.Geometria_analitica(tema_duda)\")\n",
    "elif materia_duda==\"Cálculo\":\n",
    "    print(f\"Estos son los temas de Cálculo:{Calculo}\\nIntrodusca: su_nombre=Mate(),para acceder a la clase,despues introdusca nombre.Calculo1(tema_duda)\" )\n",
    "else:\n",
    "    msg= f\"La materia: {materia_duda}, no se encuentra en el programa\"\n",
    "    raise ValueError (msg)\n"
   ]
  },
  {
   "cell_type": "code",
   "execution_count": 12,
   "metadata": {},
   "outputs": [
    {
     "data": {
      "text/plain": [
       "15"
      ]
     },
     "execution_count": 12,
     "metadata": {},
     "output_type": "execute_result"
    }
   ],
   "source": [
    "from numpy.random import randint, random\n",
    "randint(1, 20)"
   ]
  },
  {
   "cell_type": "code",
   "execution_count": 92,
   "metadata": {},
   "outputs": [],
   "source": [
    "class Mate:\n",
    "    def Algebra1(self,tema):\n",
    "        if tema==\"Factorización\":\n",
    "            print (\"Estos son los tipos de factorización:\\nFactor comun,Factor comun por agrupamiento,Trinomio cuadrado perfecto,Difernecia de cuadrados,Trinomios de la forma x^2+bx+c,Trinomio de la forma ax^2+bx+c,suma o diferncias de cubos perfectos,\\nPara factorizar por factor comun se hace lo siguiente:se ve cual es el factor en comun de la ecucación, se saca de la ecuaicon multiplicando y a lo demas se le quita ese termino,\\ntrinomio de la forma x^2+bx+c=0 para este se tienen dos opciones una es abrir dos parentesis poner la raiz de x en ambos en el primer parentesis se coloca el signo del segundo temrino y en el segundo parentesis el signo del segundo termino por el singo del tecero y se buscan dos numeros que multiplicados den c y sumados b, si estos numeros no son faciles de encontrar se recomiendo aplicar la fomula general,trinomio de la forma ax^2+bx+c=0, esta factorizacion es parecida a la anterior solo que se buscan dos numeros que multipicados den a y el procedimiento sigue siendo el mismo\")\n",
    "            print(\"Ejemplo\\nFactorize la siguiente expresion: x^2+5x+6:\\n se resuelve de la siguiente manera:\\n(x+3)(x+2)\")\n",
    "            print(\"-Realice los siguientes ejercicios:\")\n",
    "            x=0\n",
    "            while x!=10:\n",
    "                print( (str(randint(1,50)) + \"x^2\") +\"-\"+ (str(randint(1,50))+\"x\")+\"+\"+(str(randint(1,50)))+\"=\"+(str(randint(0,1))))\n",
    "                x=x+1\n",
    "                if x==10:\n",
    "                    break\n",
    "        elif tema== \"Productos_notables\":\n",
    "            print(\"Los productos notables son los siguientes: diferencia de cuadrados esta factorizacion es caundo tenemos (a^2 - b^2) su factorictorizacion es de la siguiente manera :(a-b)(a+b) en este caso la es  la raiz de la a orinal de igual forma con la b, binomio al cuadrado (a+b)^2 cuando tenemos esta expresion se resulve de la siguine forma:a^2+2ab+b^2, si se tien un signo negativo la solucion es :a^2-2ab+a^2, suma o diferencia de cubos perfectos: esto pasa cuando tenemos una expresion de la siguiente manera (a^3+b^3):se factoriza de la sigueinte manera(a+b)(a^2-ab+b^2) si la expresion(a^3-b^3) su factorizacion es (a-b)(a^2-ab+b^2)Desarolle la siguiente expresión:\\n (2x-5)^3 solucion:realiza los siguiente ejercicios:\")\n",
    "            x=0\n",
    "            while x!=10:\n",
    "                print( (str(randint(1,50)) + \"x\") +\"+\"+ (str(randint(1,50)))+\"^\"+(str(randint(2,4))))\n",
    "                x=x+1\n",
    "                if x==10:\n",
    "                    break\n",
    "                \n",
    "        elif tema== \"Leyes_signos\":\n",
    "            print(\"Estas son las leyes de los signos: (+)(+)=(+),(+)(-)=(-),(+)/(+)=(+),(+)/(-)=(-) *solo se aplican cuando tenemos una multiplicación o una división\")\n",
    "            x=0\n",
    "            while x!=10:\n",
    "                print( (str(randint(1,50))) +\"*\"+ (str(randint(1,50)))+\"/\"+(str(randint(2,4))))\n",
    "                x=x+1\n",
    "                if x==10:\n",
    "                    break\n",
    "        elif tema==\"Leyes_exponentes\":\n",
    "            print(\"Estas son las leyes de los exponentes: (a)^n * (a)^m =(a)^(n+n),a^(m)/a^(n)=a^(m-n)\")\n",
    "            x=0\n",
    "            while x!=10:\n",
    "                print( (str(randint(1,10))+\"x^\") +\"*\"+ (str(randint(1,10))+ \"x^\")+\"/\"+(str(randint(2,4)))+ \"x\")\n",
    "                x=x+1\n",
    "                if x==10:\n",
    "                    break\n",
    "        elif tema==\"Leyes_logaritmos\":\n",
    "            print(\"Estas son las leyes de los logaritmos : log(a)*log(b)=log(a*b), log(a)/log(b)= log(a-b), log(a)^(n)= (n)log(a) nota esta leyes simben para ambos casos, si se quiere pasar de una suma a una multiplicación y viceversa\")\n",
    "            print(\"Usando leyes de los logaritmos cambnie la siguente expresión:\\nLn(a)^2-ln(b)\\nsolucion: 2ln(a/b)\")\n",
    "            x=0\n",
    "            while x!=10:\n",
    "                print((str(randint(1,20))+\"ln(a)\")+\"*\"+(str(randint(1,54))+\"ln(b)\"))\n",
    "                x=x+1\n",
    "                if x==10:\n",
    "                    break\n",
    "        elif tema==\"Valor_absoluto\":\n",
    "            print(\"El valor abosulto es la distancia de diatancia de un numero respecto al cero, se define como |x|= x syss x>=0 y -x syss x<0\\nPara poder hacer operaciones con valor absoluto se toma en cuenta las siguientes |a|>b syss -b<a<b y la otra opción seria |a|<b syss a<b y a>-b\")\n",
    "            print(\"Ejemplo:Encuentre |7x+1|>0 solucion: despejamos el uno para poder tener una de las formas que conocemos: 7x>-1, nos quedaria 1<7x<-1 , las soliciones de nuestra ecuacion son los numeros que cumplen lo siguiente: x>1/7 y x<-1/7 seria un intervalo de (-infinito,-1/7)u(1/7,infinito)\")\n",
    "            x=0\n",
    "            while x!=10:\n",
    "                print((str(randint(1,50)) + \"x\") +\"+\"+ (str(randint(1,50)))+\">\"+(str(randint(0,1))))\n",
    "                x=x+1\n",
    "                if x==10:\n",
    "                    break\n",
    "            f\" nota* cada ecucaion se encuentre entre un valor absoluto\"\n",
    "            \n",
    "        elif tema==\"igualdades_desigualdades\":\n",
    "            print(\"Estos son los parametros oara poder resolver igualdades,el grado maximo de x o de la varibale a resolver es igaul a el numero de soluciones que tendremos, para poder resolver una igualdad lo que hagamos de el li de ella tambien tenemos que hacerlo a ld, siempre para poder despegar una ecuación, se tiene que empezar desde afuera y posteriormente hacia andentro,para poder despegar al ecucion tomamos en cuenta esto: si esta sumando se depeja restnado, si esta multiplicando pasa dividiendo, si esta elevado pasa como 1/n don de n es el termino a la que esta elevado, si tiene un log pasa como exponencial, en el caso delas desigulades la resolucion funciona igual, solo que si al despegar la x , si esta queda negativa, para despegar la desigualdad cambia\")\n",
    "            print(\"Ejemplo: 3x+2<1 solución:\\n3x<-1 x<-1/3\")\n",
    "            x=0\n",
    "            while x!=10:\n",
    "                print((str(randint(1,50)) + \"x\") +\"+\"+ (str(randint(1,50)))+\">\"+(str(randint(0,1))))\n",
    "                x=x+1\n",
    "                if x==10:\n",
    "                    break\n",
    "        else: \n",
    "            return f\"El tema: {tema},no se encuentra disponible\\n estos son los temas disponibles: Factorización,Productos_notables,Leyes_signos,Leyes_exponentes,Leyes_logaritmo,Valor_absoluto,sistema_ecuaciones\"              \n",
    "    def Trigonometria1(self,duda):\n",
    "        if duda == \"Tipos_triangulos\":\n",
    "             return f\"Estos son los tipos tipos de triangulos y sus caracteristicas: \\nTriángulo equilátero Un triángulo equilátero tiene tres lados de igual longitud, por lo que es un un polígono regular.\\nLos ángulos en un triángulo equilátero también son iguales\\nTriángulo escaleno: Un triángulo escaleno tiene tres lados de diferentes longitudes, y sus ángulos también tienen de medidas diferentes\\n,Triángulo isósceles: Un triángulo isósceles tiene dos lados y dos ángulos iguales\\nPor sus tipos de angulos:\\nTriángulo rectángulo: Se caracterizan por tener un ángulo interior recto, con un valor de 90,\\nTriángulo obtusángulo Este tipo de triángulo tiene un ángulo mayor a 90° pero menos de 180,\\nTriángulo acutángulo,Este tipo de triángulo se caracteriza porque tiene sus tres ángulos que son menores a 90,\\nTriángulo equiángulo:Es el triángulo equilátero, puesto que sus ángulos internos son iguales a 60\"\n",
    "        elif duda==\"Funciones_trigonometricas\":\n",
    "            return f\"Estan son las funciones trigonomreticas: sen(a)=co/hip,cos(a)=ca/hip, tan(a)=co/ca, sec(a)=hip/ca,csc(a)=hip/co,cot(a)=ca/co\\nEjemplo:Encuentre la funcion seno si se sabe que la altura de  un triangulo rectangulo mide 4 y su base es 3, solución obtenemos la hipotenusa del triangulo ocupando el teorema de pitagoras y nos da 5 nuestra respuesta seria sen(x)=4/5\"\n",
    "            x=0\n",
    "            while x!=10:\n",
    "                print((str(randint(1,50)) + \"a\") +\",\"+ (str(randint(1,50))+\"b\")+\",\"+(str(randint(1,50))+\"c\"))\n",
    "                x=x+1\n",
    "                if x==10:\n",
    "                    break\n",
    "            f\"Encuentre las fuciones trigonometricas, cada letra representa un lado de un triangulo rectangulo\"\n",
    "        elif duda==\"Teorema_pitagoras\": \n",
    "            return f\"El teorema de pitagoras nos sirven para encontrar el lado faltante de un triangulo rectangulo,el teorema enuncia lo siguiente: c^2=a^2+b^2, donde cada letra representa un lado del triangulo\"\n",
    "            x=0\n",
    "            while x!=10:\n",
    "                print((str(randint(1,20)) + \"a\") +\",\"+ (str(randint(1,13))+\"b\"))\n",
    "                x=x+1\n",
    "                if x==10:\n",
    "                    break\n",
    "                f\"Encuentre el lado faltante, cada letra representa un lado de un triangulo rectangulo\"\n",
    "        elif duda==\"Ley_senos\":\n",
    "            return f\"La ley de senos nos establece que la relación de la longitud de un lado de un triángulo al seno del ángulo opuesto a ese lado es igual para todos los lados y ángulos en un triángulo dado: a/sen(a)=b/sen(b)=c/sen(c)\"\n",
    "        elif duda==\"Ley_coseno\":\n",
    "            return f\"La ley de cosenos nos sirve :para el cálculo de uno de los lados de un triángulo cuando se conocen el ángulo opuesto y los otros dos lados. Puede ser utilizado en conjunción con la ley de los senos para encontrar todos los lados y ángulos, b^2 = a^2 + c^2 – 2accosB ,a^2 = b^2+c^2–2bccosA, c^2 = a^2 + b^2 –2abcosC\"\n",
    "        else: \n",
    "            return  f\"El tema: {duda},no se encuentra disponible\\n estos son los temas:\\n Tipo_triangulo,Funciones_trigonometricas,Teorema_pitagoras,Ley_senos,Ley_cosenos\"\n",
    "        \n",
    "    def Geo_analitica1(self,tema):\n",
    "        if tema== \"Vectores\":  \n",
    "            print(\"Es un segmento de recta con origen en un punto del espacio y que sirve para representar magnitudes que tienen una dirección y un sentido, las operaciones que se pueden hacer con vectores son: \\n Suma de vectores:Para sumar dos vectores libres vector y vector se escogen como representantes dos vectores tales que el extremo de uno coincida con el origen del otro vector.\\n Resta de vectores: Las componentes del vector resta se obtienen restando las componentes de los vectores\\n,Producto de vectores por un escalar\")\n",
    "        elif tema== \"Distancia_2_puntos\":\n",
    "            print(\"La formula para sacar la distacnia entre dos puntos es la siguiente: ((x2-x2)^2+(y2-y1)^2)^1/2 \")\n",
    "        elif tema==\"Pendiente\":\n",
    "            print(\"La pendiente de una recta nos indica hacia donde va a diriguirse nuestra recta, si  esta es positiva se va para arriba y si es negativa se va para abajo, la formula para calcularla es: m=y2-y1/x2-x1\")\n",
    "        elif tema==\"Ecuaciones_recta\":\n",
    "            print(\"Estan son las ecuaciones de la recta:\\n Ecuación que pasa por el origen:y=mx, para esta ecuación necesitmaos solo la pendiente  \\n Ecuacion vectorial:(x,y)=(x1,y1) +t(x1,y1) para esta ecuacion necesitmaos dos punto y un escalar(este nos ayudara a generar la recta)\\n Ecuación general:Ax +By +C=0 (Al tener esta ecuación podemos saber la pendientente de la recta al hacer: -A/B)\\n Ecuación punto pendinete=(y-y1)=m(x-x1) (para poder generar esta Ecuacion necesitmos la pendiente y un punto de la recta\")   \n",
    "        elif tema==\"Caracteristicas_rectas_paralela_perpendicular\":\n",
    "            print(\"Si dos rectas son paralelas cumplen la condicion de:\\n m1=m2 \\n De lo contrario si son perpendicuales deben de cumolir la siguiente condicion:\\n m1xm2=1\")\n",
    "        elif tema==\"Circunferencia\":\n",
    "            print(\"A la circuferencia la definimos como :La circunferencia es una línea curva, cerrada y plana, cuyos puntos están todos a la misma distancia de otro punto, llamado centro, tenemos las dos siguientes ecuaciones:(x)^2+(y)^2=r^2 donde (x,y) es el centro de la circufenrcia y r el radio en este caso la circuferneica tiene centro en el origen\\n la segunda ecuacion es (x-h)^2+(y-k)^2=r en esta ecución el radio es (h,k)\")\n",
    "        elif tema == \"Parabola\":\n",
    "            print(\"A la parabaloa la definimos como :Dados un punto F(foco) y una recta r (directriz), se denomina parábola al conjunto de puntos del plano que equidistan del foco y de la directriz,su ecuación queda de una de las siguinetes formas: (x-h)^2=4p(y-k) (vertical) o (y-k)^2=4p(x-h)\")\n",
    "            \n",
    "        elif tema== \"Elipse\":\n",
    "            print(\"A la elipse la definimos como:\\n La elipse es el lugar geométrico de los puntos del plano cuya suma de distancias a dos puntos fijos llamados focos es constante, sus ecuaciones son (x-h)^2/a^2 +(y-k)^2/b^2=1 o (x-h)^2/b^2 +(y-k)^2/a^2=1 en ambos casoa a>b\")\n",
    "      \n",
    "        elif tema==\"Hiperbola\":\n",
    "            print(\"A la hiperbola la defininimo como: Dados dos puntos F1 y F2 llamados focos, se denomina hipérbola al conjunto de puntos del plano tales que el valor absoluto de la diferencia de sus distancias a los focos es constante\\n sus ecuaciones quedan: (x-h)^2/a^2-(y-k)^2/b^2=1 o (x-h)^2/b^2-(y-k)^2/a^2=1 donde a<b o a>b o a=b\")\n",
    "           \n",
    "        else:\n",
    "            print(f\"El tema: {tema},no se encuentra disponible\\n estos son los temas:\\n Vectores,Distanica_2_puntoa,Pendiente,Ecuaciones_recta,Catacteristicas_rectas_perpendiculares_paralelas,Circunferencia,Parabola,Elipse\")\n",
    "    def calculo1(self,tema):\n",
    "        if tema==\"tipos_funciones\":\n",
    "            print(\"Una funcion es se refiere en matemáticas a una regla que asigna a cada elemento de un primer conjunto un único elemento de un segundo conjunto/nLos tipos de funciones que tenemos son: Algebracias(poninomicas, racionales, radicales), Trascendentes(exponenciales, logaritmicas, trigonometricas)\")\n",
    "        elif tema==\"dominio_rango\":\n",
    "            print(\"El dominio de una funcion:El dominio de una función o relación es el conjunto de todos los valores independientes posibles que una relación puede tener. Es la colección de todas las entradas posibles,El rango de una función o relación es el conjunto de todos los valores dependientes posibles que la relación puede producir. Es la colección de todas las salidas posibles, Lo que se hace para poder encontrar el dominio de una función es ver que puntos no puede tomar, si tenemos una raiz evitamos que nuestro argumento sea menor a cero, si tenemos un cociente quitamos los puntos donde su denominadar se hace cero, si tenemos un ln tratamos que su argumento sea mayor a 1, estas reglas se pueden combinar\")\n",
    "            print(\"Ejemplo: encuentre el dominio de (x-2)^1/2, solucion notamos que es nuetra funcion es una raiz por lo que solo buscamos donde el argunmeto de la raiz podria ser negativo, en este caso solo se hace una desigualdad de la siguiente manera x-2>0 syss x<2 nuetro domimnio seria [2,infinito) \")\n",
    "            print(\"Encuentre el dominio de las siguientes funciones:\")\n",
    "        if tema==\"operaciones_funciions\":\n",
    "            print(\"Las operaciones que podemos realizar con fuciones diferente son: Suma,Resta,Multiplicacion,Composicion,En el caso de la suma y la resta de funciones,solo podemos realizar la suma de terminos iguales de una funcion los los temrinons de la otra funcion, es decir las x de exponete cuadrado se suman o restan con las x de exponente cuadrado de la otra funcion, y asi resprectivamente, para la multiplicacion de funciones  )\n",
    "        \n",
    "\n",
    "            \n",
    "            \n",
    "       \n",
    "                \n",
    "        \n",
    "            \n",
    "                  \n",
    "            \n",
    "            \n",
    "            \n",
    "\n"
   ]
  },
  {
   "cell_type": "code",
   "execution_count": 2,
   "metadata": {},
   "outputs": [
    {
     "data": {
      "text/plain": [
       "16"
      ]
     },
     "execution_count": 2,
     "metadata": {},
     "output_type": "execute_result"
    }
   ],
   "source": [
    "from numpy.random import randint, random\n",
    "randint(1, 20)"
   ]
  },
  {
   "cell_type": "code",
   "execution_count": 91,
   "metadata": {},
   "outputs": [
    {
     "name": "stdout",
     "output_type": "stream",
     "text": [
      "16a,5b\n",
      "2a,10b\n",
      "13a,8b\n",
      "15a,1b\n",
      "9a,4b\n",
      "2a,11b\n",
      "3a,3b\n",
      "5a,6b\n",
      "11a,11b\n",
      "6a,2b\n"
     ]
    },
    {
     "data": {
      "text/plain": [
       "'Encuentre el lado faltante, cada letra representa un lado de un triangulo rectangulo'"
      ]
     },
     "execution_count": 91,
     "metadata": {},
     "output_type": "execute_result"
    }
   ],
   "source": [
    "x=0\n",
    "while x!=10:\n",
    "    print((str(randint(1,20)) + \"a\") +\",\"+ (str(randint(1,13))+\"b\"))\n",
    "    x=x+1\n",
    "    if x==10:\n",
    "        break\n",
    "f\"Encuentre el lado faltante, cada letra representa un lado de un triangulo rectangulo\""
   ]
  },
  {
   "cell_type": "code",
   "execution_count": 27,
   "metadata": {},
   "outputs": [
    {
     "name": "stdout",
     "output_type": "stream",
     "text": [
      "21x+12>0\n",
      "31x+9>0\n",
      "25x+25>0\n",
      "2x+46>0\n",
      "44x+41>0\n",
      "11x+38>0\n",
      "16x+5>0\n",
      "22x+46>0\n",
      "33x+48>0\n",
      "45x+14>0\n"
     ]
    },
    {
     "data": {
      "text/plain": [
       "'cada ecucaion se encuentre entre un valor absoluto'"
      ]
     },
     "execution_count": 27,
     "metadata": {},
     "output_type": "execute_result"
    }
   ],
   "source": [
    "x=0\n",
    "while x!=10:\n",
    "    print((str(randint(1,50)) + \"x\") +\"+\"+ (str(randint(1,50)))+\">\"+(str(randint(0,1))))\n",
    "    x=x+1\n",
    "    if x==10:\n",
    "        break\n",
    "f\"cada ecucaion se encuentre entre un valor absoluto\""
   ]
  },
  {
   "cell_type": "markdown",
   "metadata": {},
   "source": [
    "randint\n",
    "rand()e[0,1]\n",
    "sym=\"+\" if rand()<0.5 else\"-\""
   ]
  },
  {
   "cell_type": "code",
   "execution_count": 95,
   "metadata": {},
   "outputs": [
    {
     "ename": "FileNotFoundError",
     "evalue": "File b'tabla angulos.csv' does not exist",
     "output_type": "error",
     "traceback": [
      "\u001b[1;31m---------------------------------------------------------------------------\u001b[0m",
      "\u001b[1;31mFileNotFoundError\u001b[0m                         Traceback (most recent call last)",
      "\u001b[1;32m<ipython-input-95-4fa9e373b6d1>\u001b[0m in \u001b[0;36m<module>\u001b[1;34m()\u001b[0m\n\u001b[0;32m      1\u001b[0m \u001b[1;32mimport\u001b[0m \u001b[0mpandas\u001b[0m \u001b[1;32mas\u001b[0m \u001b[0mpd\u001b[0m\u001b[1;33m\u001b[0m\u001b[0m\n\u001b[1;32m----> 2\u001b[1;33m \u001b[0mA\u001b[0m\u001b[1;33m=\u001b[0m\u001b[0mTabla_seno_coseno\u001b[0m\u001b[1;33m=\u001b[0m\u001b[0mpd\u001b[0m\u001b[1;33m.\u001b[0m\u001b[0mread_csv\u001b[0m\u001b[1;33m(\u001b[0m\u001b[1;34m\"tabla angulos.csv\"\u001b[0m\u001b[1;33m)\u001b[0m\u001b[1;33m\u001b[0m\u001b[0m\n\u001b[0m",
      "\u001b[1;32m~\\AppData\\Local\\Continuum\\anaconda3\\lib\\site-packages\\pandas\\io\\parsers.py\u001b[0m in \u001b[0;36mparser_f\u001b[1;34m(filepath_or_buffer, sep, delimiter, header, names, index_col, usecols, squeeze, prefix, mangle_dupe_cols, dtype, engine, converters, true_values, false_values, skipinitialspace, skiprows, nrows, na_values, keep_default_na, na_filter, verbose, skip_blank_lines, parse_dates, infer_datetime_format, keep_date_col, date_parser, dayfirst, iterator, chunksize, compression, thousands, decimal, lineterminator, quotechar, quoting, escapechar, comment, encoding, dialect, tupleize_cols, error_bad_lines, warn_bad_lines, skipfooter, doublequote, delim_whitespace, low_memory, memory_map, float_precision)\u001b[0m\n\u001b[0;32m    676\u001b[0m                     skip_blank_lines=skip_blank_lines)\n\u001b[0;32m    677\u001b[0m \u001b[1;33m\u001b[0m\u001b[0m\n\u001b[1;32m--> 678\u001b[1;33m         \u001b[1;32mreturn\u001b[0m \u001b[0m_read\u001b[0m\u001b[1;33m(\u001b[0m\u001b[0mfilepath_or_buffer\u001b[0m\u001b[1;33m,\u001b[0m \u001b[0mkwds\u001b[0m\u001b[1;33m)\u001b[0m\u001b[1;33m\u001b[0m\u001b[0m\n\u001b[0m\u001b[0;32m    679\u001b[0m \u001b[1;33m\u001b[0m\u001b[0m\n\u001b[0;32m    680\u001b[0m     \u001b[0mparser_f\u001b[0m\u001b[1;33m.\u001b[0m\u001b[0m__name__\u001b[0m \u001b[1;33m=\u001b[0m \u001b[0mname\u001b[0m\u001b[1;33m\u001b[0m\u001b[0m\n",
      "\u001b[1;32m~\\AppData\\Local\\Continuum\\anaconda3\\lib\\site-packages\\pandas\\io\\parsers.py\u001b[0m in \u001b[0;36m_read\u001b[1;34m(filepath_or_buffer, kwds)\u001b[0m\n\u001b[0;32m    438\u001b[0m \u001b[1;33m\u001b[0m\u001b[0m\n\u001b[0;32m    439\u001b[0m     \u001b[1;31m# Create the parser.\u001b[0m\u001b[1;33m\u001b[0m\u001b[1;33m\u001b[0m\u001b[0m\n\u001b[1;32m--> 440\u001b[1;33m     \u001b[0mparser\u001b[0m \u001b[1;33m=\u001b[0m \u001b[0mTextFileReader\u001b[0m\u001b[1;33m(\u001b[0m\u001b[0mfilepath_or_buffer\u001b[0m\u001b[1;33m,\u001b[0m \u001b[1;33m**\u001b[0m\u001b[0mkwds\u001b[0m\u001b[1;33m)\u001b[0m\u001b[1;33m\u001b[0m\u001b[0m\n\u001b[0m\u001b[0;32m    441\u001b[0m \u001b[1;33m\u001b[0m\u001b[0m\n\u001b[0;32m    442\u001b[0m     \u001b[1;32mif\u001b[0m \u001b[0mchunksize\u001b[0m \u001b[1;32mor\u001b[0m \u001b[0miterator\u001b[0m\u001b[1;33m:\u001b[0m\u001b[1;33m\u001b[0m\u001b[0m\n",
      "\u001b[1;32m~\\AppData\\Local\\Continuum\\anaconda3\\lib\\site-packages\\pandas\\io\\parsers.py\u001b[0m in \u001b[0;36m__init__\u001b[1;34m(self, f, engine, **kwds)\u001b[0m\n\u001b[0;32m    785\u001b[0m             \u001b[0mself\u001b[0m\u001b[1;33m.\u001b[0m\u001b[0moptions\u001b[0m\u001b[1;33m[\u001b[0m\u001b[1;34m'has_index_names'\u001b[0m\u001b[1;33m]\u001b[0m \u001b[1;33m=\u001b[0m \u001b[0mkwds\u001b[0m\u001b[1;33m[\u001b[0m\u001b[1;34m'has_index_names'\u001b[0m\u001b[1;33m]\u001b[0m\u001b[1;33m\u001b[0m\u001b[0m\n\u001b[0;32m    786\u001b[0m \u001b[1;33m\u001b[0m\u001b[0m\n\u001b[1;32m--> 787\u001b[1;33m         \u001b[0mself\u001b[0m\u001b[1;33m.\u001b[0m\u001b[0m_make_engine\u001b[0m\u001b[1;33m(\u001b[0m\u001b[0mself\u001b[0m\u001b[1;33m.\u001b[0m\u001b[0mengine\u001b[0m\u001b[1;33m)\u001b[0m\u001b[1;33m\u001b[0m\u001b[0m\n\u001b[0m\u001b[0;32m    788\u001b[0m \u001b[1;33m\u001b[0m\u001b[0m\n\u001b[0;32m    789\u001b[0m     \u001b[1;32mdef\u001b[0m \u001b[0mclose\u001b[0m\u001b[1;33m(\u001b[0m\u001b[0mself\u001b[0m\u001b[1;33m)\u001b[0m\u001b[1;33m:\u001b[0m\u001b[1;33m\u001b[0m\u001b[0m\n",
      "\u001b[1;32m~\\AppData\\Local\\Continuum\\anaconda3\\lib\\site-packages\\pandas\\io\\parsers.py\u001b[0m in \u001b[0;36m_make_engine\u001b[1;34m(self, engine)\u001b[0m\n\u001b[0;32m   1012\u001b[0m     \u001b[1;32mdef\u001b[0m \u001b[0m_make_engine\u001b[0m\u001b[1;33m(\u001b[0m\u001b[0mself\u001b[0m\u001b[1;33m,\u001b[0m \u001b[0mengine\u001b[0m\u001b[1;33m=\u001b[0m\u001b[1;34m'c'\u001b[0m\u001b[1;33m)\u001b[0m\u001b[1;33m:\u001b[0m\u001b[1;33m\u001b[0m\u001b[0m\n\u001b[0;32m   1013\u001b[0m         \u001b[1;32mif\u001b[0m \u001b[0mengine\u001b[0m \u001b[1;33m==\u001b[0m \u001b[1;34m'c'\u001b[0m\u001b[1;33m:\u001b[0m\u001b[1;33m\u001b[0m\u001b[0m\n\u001b[1;32m-> 1014\u001b[1;33m             \u001b[0mself\u001b[0m\u001b[1;33m.\u001b[0m\u001b[0m_engine\u001b[0m \u001b[1;33m=\u001b[0m \u001b[0mCParserWrapper\u001b[0m\u001b[1;33m(\u001b[0m\u001b[0mself\u001b[0m\u001b[1;33m.\u001b[0m\u001b[0mf\u001b[0m\u001b[1;33m,\u001b[0m \u001b[1;33m**\u001b[0m\u001b[0mself\u001b[0m\u001b[1;33m.\u001b[0m\u001b[0moptions\u001b[0m\u001b[1;33m)\u001b[0m\u001b[1;33m\u001b[0m\u001b[0m\n\u001b[0m\u001b[0;32m   1015\u001b[0m         \u001b[1;32melse\u001b[0m\u001b[1;33m:\u001b[0m\u001b[1;33m\u001b[0m\u001b[0m\n\u001b[0;32m   1016\u001b[0m             \u001b[1;32mif\u001b[0m \u001b[0mengine\u001b[0m \u001b[1;33m==\u001b[0m \u001b[1;34m'python'\u001b[0m\u001b[1;33m:\u001b[0m\u001b[1;33m\u001b[0m\u001b[0m\n",
      "\u001b[1;32m~\\AppData\\Local\\Continuum\\anaconda3\\lib\\site-packages\\pandas\\io\\parsers.py\u001b[0m in \u001b[0;36m__init__\u001b[1;34m(self, src, **kwds)\u001b[0m\n\u001b[0;32m   1706\u001b[0m         \u001b[0mkwds\u001b[0m\u001b[1;33m[\u001b[0m\u001b[1;34m'usecols'\u001b[0m\u001b[1;33m]\u001b[0m \u001b[1;33m=\u001b[0m \u001b[0mself\u001b[0m\u001b[1;33m.\u001b[0m\u001b[0musecols\u001b[0m\u001b[1;33m\u001b[0m\u001b[0m\n\u001b[0;32m   1707\u001b[0m \u001b[1;33m\u001b[0m\u001b[0m\n\u001b[1;32m-> 1708\u001b[1;33m         \u001b[0mself\u001b[0m\u001b[1;33m.\u001b[0m\u001b[0m_reader\u001b[0m \u001b[1;33m=\u001b[0m \u001b[0mparsers\u001b[0m\u001b[1;33m.\u001b[0m\u001b[0mTextReader\u001b[0m\u001b[1;33m(\u001b[0m\u001b[0msrc\u001b[0m\u001b[1;33m,\u001b[0m \u001b[1;33m**\u001b[0m\u001b[0mkwds\u001b[0m\u001b[1;33m)\u001b[0m\u001b[1;33m\u001b[0m\u001b[0m\n\u001b[0m\u001b[0;32m   1709\u001b[0m \u001b[1;33m\u001b[0m\u001b[0m\n\u001b[0;32m   1710\u001b[0m         \u001b[0mpassed_names\u001b[0m \u001b[1;33m=\u001b[0m \u001b[0mself\u001b[0m\u001b[1;33m.\u001b[0m\u001b[0mnames\u001b[0m \u001b[1;32mis\u001b[0m \u001b[1;32mNone\u001b[0m\u001b[1;33m\u001b[0m\u001b[0m\n",
      "\u001b[1;32mpandas\\_libs\\parsers.pyx\u001b[0m in \u001b[0;36mpandas._libs.parsers.TextReader.__cinit__\u001b[1;34m()\u001b[0m\n",
      "\u001b[1;32mpandas\\_libs\\parsers.pyx\u001b[0m in \u001b[0;36mpandas._libs.parsers.TextReader._setup_parser_source\u001b[1;34m()\u001b[0m\n",
      "\u001b[1;31mFileNotFoundError\u001b[0m: File b'tabla angulos.csv' does not exist"
     ]
    }
   ],
   "source": [
    "import pandas as pd\n",
    "A=Tabla_seno_coseno=pd.read_csv(\"tabla angulos.csv\")"
   ]
  },
  {
   "cell_type": "code",
   "execution_count": null,
   "metadata": {},
   "outputs": [],
   "source": []
  }
 ],
 "metadata": {
  "kernelspec": {
   "display_name": "Python 3",
   "language": "python",
   "name": "python3"
  },
  "language_info": {
   "codemirror_mode": {
    "name": "ipython",
    "version": 3
   },
   "file_extension": ".py",
   "mimetype": "text/x-python",
   "name": "python",
   "nbconvert_exporter": "python",
   "pygments_lexer": "ipython3",
   "version": "3.7.0"
  }
 },
 "nbformat": 4,
 "nbformat_minor": 2
}
