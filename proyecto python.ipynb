{
 "cells": [
  {
   "cell_type": "code",
   "execution_count": 1,
   "metadata": {},
   "outputs": [],
   "source": [
    "import math\n",
    "import numpy as np"
   ]
  },
  {
   "cell_type": "code",
   "execution_count": 2,
   "metadata": {},
   "outputs": [],
   "source": [
    "#Los temas que tienes las clases que se ocuparan\n",
    "Matemáticas ={ \"Algebra\":[\"factorización\",\"leyes de los signos\",\n",
    "                          \"leyes de los exponentes\",\"productos notables\",\"leyes de los logaritmos\"\n",
    "                          ,\"valor absoluto\",\"igualdades y desigualdades\",\"sistemas de ecuaciones\"\n",
    "                      ,\"problemas con lenguaje algebraico\"],\n",
    "              \"Trigonometria\":[\"tipos de triangulos\",\"angulos de un triangulo\",\"funciones trigonometricas\",\n",
    "                               \"teorema de pitagoras\",\"ley de senos\",\"ley de cosenos\"],\n",
    "              \"Geometria analitica \":[\"vectores\",\"distancia entre dos puntos, ecauciones de la recta \",\"caracterisitcas de las rectas paralelas y perpendicualares en el plano\",\n",
    "                                      \"cirunferencia\",\"parabola\",\"elipse\",\"hiperbola\"],\n",
    "              \"caluculo\":[\"tipos de funciones\",\"dominio y rango de una funcion\",\"operaciones con funicones\",\"limite de una funcion\"\n",
    "                          ,\"derivada\",\"integral\"]\n",
    "             }\n",
    "Física={\"Mecanica\",\"Estatica\",\"Dinamica\",\"Cinematica\",\"Termodinamica\",\"Electromagnetismo\"\n",
    "        ,\"Optica\",\"Electricidad\",\"Magnetismo\"}\n"
   ]
  },
  {
   "cell_type": "code",
   "execution_count": 3,
   "metadata": {},
   "outputs": [
    {
     "name": "stdout",
     "output_type": "stream",
     "text": [
      "Introdusca un nombre de usuario  PAUS\n",
      "Bienvenido PAUS ,¿En que materia tienes duda? (Matemáticas o Física): Matemáticas\n",
      "Estos son los temas de matemáticas: {'Algebra': ['factorización', 'leyes de los signos', 'leyes de los exponentes', 'productos notables', 'leyes de los logaritmos', 'valor absoluto', 'igualdades y desigualdades', 'sistemas de ecuaciones', 'problemas con lenguaje algebraico'], 'Trigonometria': ['tipos de triangulos', 'angulos de un triangulo', 'funciones trigonometricas', 'teorema de pitagoras', 'ley de senos', 'ley de cosenos'], 'Geometria analitica ': ['vectores', 'distancia entre dos puntos, ecauciones de la recta ', 'caracterisitcas de las rectas paralelas y perpendicualares en el plano', 'cirunferencia', 'parabola', 'elipse', 'hiperbola'], 'caluculo': ['tipos de funciones', 'dominio y rango de una funcion', 'operaciones con funicones', 'limite de una funcion', 'derivada', 'integral']}\n"
     ]
    }
   ],
   "source": [
    "usuario=input(\"Introdusca un nombre de usuario  \")\n",
    "materia_duda=input(f\"Bienvenido {usuario} ,¿En que materia tienes duda? (Matemáticas o Física): \")\n",
    "if materia_duda == \"Matemáticas\":\n",
    "    print (f\"Estos son los temas de matemáticas: {Matemáticas}\")\n",
    "elif materia_duda ==\"Física\":\n",
    "    print (f\"Estos son los temas de Física: {Física}\")\n",
    "else:\n",
    "    msg= f\"La materia: {materia_duda}, no se encuentra en el programa\"\n",
    "    raise ValueError (msg)\n"
   ]
  },
  {
   "cell_type": "code",
   "execution_count": 4,
   "metadata": {},
   "outputs": [
    {
     "data": {
      "text/plain": [
       "13"
      ]
     },
     "execution_count": 4,
     "metadata": {},
     "output_type": "execute_result"
    }
   ],
   "source": [
    "from numpy.random import randint, random\n",
    "randint(1, 20)"
   ]
  },
  {
   "cell_type": "code",
   "execution_count": 18,
   "metadata": {},
   "outputs": [],
   "source": [
    "class Mate:\n",
    "    def Algebra1(self,tema):\n",
    "        if tema==\"Factorización\":\n",
    "            print (\"Estos son los tipos de factorización:\\nFactor comun,Factor comun por agrupamiento,Trinomio cuadrado perfecto,Difernecia de cuadrados,Trinomios de la forma x^2+bx+c,Trinomio de la forma ax^2+bx+c,suma o diferncias de cubos perfectos,\\nPara factorizar por factor comun se hace lo siguiente:se ve cual es el factor en comun de la ecucación, se saca de la ecuaicon multiplicando y a lo demas se le quita ese termino,\\ntrinomio de la forma x^2+bx+c=0 para este se tienen dos opciones una es abrir dos parentesis poner la raiz de x en ambos en el primer parentesis se coloca el signo del segundo temrino y en el segundo parentesis el signo del segundo termino por el singo del tecero y se buscan dos numeros que multiplicados den c y sumados b, si estos numeros no son faciles de encontrar se recomiendo aplicar la fomula general,trinomio de la forma ax^2+bx+c=0, esta factorizacion es parecida a la anterior solo que se buscan dos numeros que multipicados den a y el procedimiento sigue siendo el mismo\")\n",
    "            print(\"Ejemplo\\nFactorize la siguiente expresion: x^2+5x+6:\\n se resuelve de la siguiente manera:\\n(x+3)(x+2)\")\n",
    "            print(\"-Realice los siguientes ejercicios:\")\n",
    "            x=0\n",
    "            while x!=10:\n",
    "                print( (str(randint(1,50)) + \"x^2\") +\"-\"+ (str(randint(1,50))+\"x\")+\"+\"+(str(randint(1,50)))+\"=\"+(str(randint(0,1))))\n",
    "                x=x+1\n",
    "                if x==10:\n",
    "                    break\n",
    "        elif tema== \"Productos_notables\":\n",
    "            print(\"Los productos notables son los siguientes: diferencia de cuadrados esta factorizacion es caundo tenemos (a^2 - b^2) su factorictorizacion es de la siguiente manera :(a-b)(a+b) en este caso la es  la raiz de la a orinal de igual forma con la b, binomio al cuadrado (a+b)^2 cuando tenemos esta expresion se resulve de la siguine forma:a^2+2ab+b^2, si se tien un signo negativo la solucion es :a^2-2ab+a^2, suma o diferencia de cubos perfectos: esto pasa cuando tenemos una expresion de la siguiente manera (a^3+b^3):se factoriza de la sigueinte manera(a+b)(a^2-ab+b^2) si la expresion(a^3-b^3) su factorizacion es (a-b)(a^2-ab+b^2)Desarolle la siguiente expresión:\\n (2x-5)^3 solucion:realiza los siguiente ejercicios:\")\n",
    "            x=0\n",
    "            while x!=10:\n",
    "                print( (str(randint(1,50)) + \"x\") +\"+\"+ (str(randint(1,50)))+\"^\"+(str(randint(2,4))))\n",
    "                x=x+1\n",
    "                if x==10:\n",
    "                    break\n",
    "                \n",
    "        elif tema== \"Leyes_signos\":\n",
    "            print(\"Estas son las leyes de los signos: (+)(+)=(+),(+)(-)=(-),(+)/(+)=(+),(+)/(-)=(-) *solo se aplican cuando tenemos una multiplicación o una división\")\n",
    "            x=0\n",
    "            while x!=10:\n",
    "                print( (str(randint(1,50))) +\"*\"+ (str(randint(1,50)))+\"/\"+(str(randint(2,4))))\n",
    "                x=x+1\n",
    "                if x==10:\n",
    "                    break\n",
    "        elif tema==\"Leyes_exponentes\":\n",
    "            print(\"Estas son las leyes de los exponentes: (a)^n * (a)^m =(a)^(n+n),a^(m)/a^(n)=a^(m-n)\")\n",
    "            x=0\n",
    "            while x!=10:\n",
    "                print( (str(randint(1,10))+\"x^\") +\"*\"+ (str(randint(1,10))+ \"x^\")+\"/\"+(str(randint(2,4)))+ \"x\")\n",
    "                x=x+1\n",
    "                if x==10:\n",
    "                    break\n",
    "        elif tema==\"Leyes_logaritmos\":\n",
    "            print(\"Estas son las leyes de los logaritmos : log(a)*log(b)=log(a*b), log(a)/log(b)= log(a-b), log(a)^(n)= (n)log(a) nota esta leyes simben para ambos casos, si se quiere pasar de una suma a una multiplicación y viceversa\")\n",
    "        elif tema==\"Valor_absoluto\":\n",
    "            print(\"El valor abosulto es la distancia de diatancia de un numero respecto al cero, se define como |x|=x syss x> o = 0 y -x syss x\")\n",
    "        elif tema==\"igualdades_desigualdades\":\n",
    "            print(\"Estos son los parametros oara poder resolver igualdades,el grado maximo de x o de la varibale a resolver es igaul a el numero de soluciones que tendremos, para poder resolver una igualdad lo que hagamos de el li de ella tambien tenemos que hacerlo a ld, siempre para poder despegar una ecuación, se tiene que empezar desde afuera y posteriormente hacia andentro,para poder despegar al ecucion tomamos en cuenta esto: si esta sumando se depeja restnado, si esta multiplicando pasa dividiendo, si esta elevado pasa como 1/n don de n es el termino a la que esta elevado, si tiene un log pasa como exponencial, en el caso delas desigulades la resolucion funciona igual, solo que si al despegar la x , si esta queda negativa, para despegar la desigualdad cambia\")\n",
    "        elif tema==\"sistemas_ecuaciones\":\n",
    "            print(f\"Estos son los metodos que hay para resolver sistemas de ecuaciones: suna y resta,sutitucion,metodo de cramer, eliminacion gassuana,metodo de gauss jordan\")\n",
    "        else: \n",
    "            return f\"El tema: {tema},no se encuentra disponible\\n estos son los temas disponibles: Factorización,Productos_notables,Leyes_signos,Leyes_exponentes,Leyes_logaritmo,Valor_absoluto,sistema_ecuaciones\"              \n",
    "    def Trigonometria1(self,tema):\n",
    "        if tema== \"Tipos_triangulos\":\n",
    "            return f\"Estos son los tipos tipos de triangulos y sus caracteristicas: \\nTriángulo equilátero Un triángulo equilátero tiene tres lados de igual longitud, por lo que es un un polígono regular.\\nLos ángulos en un triángulo equilátero también son iguales\\nTriángulo escaleno: Un triángulo escaleno tiene tres lados de diferentes longitudes, y sus ángulos también tienen de medidas diferentes\\n,Triángulo isósceles: Un triángulo isósceles tiene dos lados y dos ángulos iguales\\nPor sus tipos de angulos:\\nTriángulo rectángulo: Se caracterizan por tener un ángulo interior recto, con un valor de 90,\\nTriángulo obtusángulo Este tipo de triángulo tiene un ángulo mayor a 90° pero menos de 180,\\nTriángulo acutángulo,Este tipo de triángulo se caracteriza porque tiene sus tres ángulos que son menores a 90,\\nTriángulo equiángulo:Es el triángulo equilátero, puesto que sus ángulos internos son iguales a 60\"\n",
    "        elif tema==\"Funciones_trigonometricas\":\n",
    "            print(\"Estan son las funciones trigonomreticas: sen(a)=co/hip,cos(a)=ca/hip, tan(a)=co/ca, sec(a)=hip/ca,csc(a)=hip/co,cot(a)=ca/co\")    \n",
    "        elif tema==\"Teorema_pitagoras\": \n",
    "            print=(\"El teorema de pitagoras nos sirven para encontrar el lado faltante de un triangulo rectangulo,el teorema enuncia lo siguiente: c^2=a^2+b^2, donde cada letra representa un lado del triangulo\")\n",
    "        elif tema==\"Ley_senos\":\n",
    "            print(\"La ley de senos nos establece que la relación de la longitud de un lado de un triángulo al seno del ángulo opuesto a ese lado es igual para todos los lados y ángulos en un triángulo dado: a/sen(a)=b/sen(b)=c/sen(c)\")\n",
    "        elif tema==\"Ley_coseno\":\n",
    "            print(\"La ley de cosenos nos sirve :para el cálculo de uno de los lados de un triángulo cuando se conocen el ángulo opuesto y los otros dos lados. Puede ser utilizado en conjunción con la ley de los senos para encontrar todos los lados y ángulos, b^2 = a^2 + c^2 – 2accosB ,a^2 = b^2+c^2–2bccosA, c^2 = a^2 + b^2 –2abcosC\")\n",
    "        else: \n",
    "            return  f\"El tema: {tema},no se encuentra disponible\\n estos son los temas:\\n Tipo_triangulo,Funciones_trigonometricas,Teorema_pitagoras,Ley_senos,Ley_cosenos\"\n",
    "        \n",
    "    def Geo_analitica1(self,tema):\n",
    "        if tema== \"Vectores\":  \n",
    "            print(\"Es un segmento de recta con origen en un punto del espacio y que sirve para representar magnitudes que tienen una dirección y un sentido, las operaciones que se pueden hacer con vectores son: \\n Suma de vectores:Para sumar dos vectores libres vector y vector se escogen como representantes dos vectores tales que el extremo de uno coincida con el origen del otro vector.\\n Resta de vectores: Las componentes del vector resta se obtienen restando las componentes de los vectores\\n,Producto de vectores por un escalar\")\n",
    "            self.crear_ejemplo(\"Suma los siguientes vectores\")\n",
    "            self.crear_ejercicio(\"\")\n",
    "        elif tema== \"Distancia_2_puntos\":\n",
    "            print(\"La formula para sacar la distacnia entre dos puntos es la siguiente: ((x2-x2)^2+(y2-y1)^2)^1/2 \")\n",
    "            self.crear_ejemplo(\"Encuentre la ditancia entre los puntos (2,5),(8,12) esto aplicando la formula es igual =\"[math.sqrt((8-2)**2 -(12-5)**2)])\n",
    "            self.crear_ejercicio(\"Encuentre la distancia entre los puntos: (-2,0),(3,9)\")\n",
    "        elif tema==\"Pendiente\":\n",
    "            print(\"La pendiente de una recta nos indica hacia donde va a diriguirse nuestra recta, si  esta es positiva se va para arriba y si es negativa se va para abajo, la formula para calcularla es: m=y2-y1/x2-x1\")\n",
    "            self.crear_ejemplo(\"Encuentre la pendiente dado (2,3),(5,9) solucion: m=(9-3)/(5-2) =2\")\n",
    "            self.crear_ejercicio(\"Encuentre la pendientre entre los puntos (4,2),(8,-6)\")\n",
    "        elif tema==\"Ecuaciones_recta\":\n",
    "            print(\"Estan son las ecuaciones de la recta:\\n Ecuación que pasa por el origen:y=mx, para esta ecuación necesitmaos solo la pendiente  \\n Ecuacion vectorial:(x,y)=(x1,y1) +t(x1,y1) para esta ecuacion necesitmaos dos punto y un escalar(este nos ayudara a generar la recta)\\n Ecuación general:Ax +By +C=0 (Al tener esta ecuación podemos saber la pendientente de la recta al hacer: -A/B)\\n Ecuación punto pendinete=(y-y1)=m(x-x1) (para poder generar esta Ecuacion necesitmos la pendiente y un punto de la recta\")\n",
    "            self.crear_ejemplo(\"Encuentre la ecuación general de la recta si:(2,3),(9,6):\\n Solucion: \\n Primer paso es enontrar la pendiente:\\n Sustituyendo en la formula de pendenidente tenemos: m(6-3)/(9-7) m=3/2,\\n Ahora nos apoyamos de la ecuación punto pendiente, para despues igualarla a cero y obrener la formula general haciendo lo anteiro tenemos:\\n (y-(-3))=3/2(x-6) haciendo las operaciones e igualando a cero tenemos:\\n 3x-2y-24=0 \")\n",
    "            self.crear_ejercicio(\"Enceuntre la ecuación punto pendiente si: \\n (4,5) m=-3\")\n",
    "        elif tema==\"Caracteristicas_rectas_paralela_perpendicular\":\n",
    "            print(\"Si dos rectas son paralelas cumplen la condicion de:\\n m1=m2 \\n De lo contrario si son perpendicuales deben de cumolir la siguiente condicion:\\n m1xm2=1\")\n",
    "            self.crear_ejemplo(\"Evalue si las siguintes rectas son perpendicualares o paralelas si r1= 4x-2y+1=0 y r2= -3x+4y+9=0 , sabemos que m1=2 y m2=3/4 al realizar la multiplicación tnemos 3/2 lo cual nos indica que no son perpendiculares\")\n",
    "            self.crear_ejercicio(\"\")\n",
    "        elif tema==\"Circunferencia\":\n",
    "            print(\"A la circuferencia la definimos como :La circunferencia es una línea curva, cerrada y plana, cuyos puntos están todos a la misma distancia de otro punto, llamado centro, tenemos las dos siguientes ecuaciones:(x)^2+(y)^2=r^2 donde (x,y) es el centro de la circufenrcia y r el radio en este caso la circuferneica tiene centro en el origen\\n la segunda ecuacion es (x-h)^2+(y-k)^2=r en esta ecución el radio es (h,k)\")\n",
    "            self.crear_ejemplo(\"\")\n",
    "            slf.crear_ejercicio(\"\")\n",
    "        elif tema == \"Parabola\":\n",
    "            print(\"A la parabaloa la definimos como :Dados un punto F(foco) y una recta r (directriz), se denomina parábola al conjunto de puntos del plano que equidistan del foco y de la directriz,su ecuación queda de una de las siguinetes formas: (x-h)^2=4p(y-k) (vertical) o (y-k)^2=4p(x-h)\")\n",
    "            self.crear_ejemplo(\"\")\n",
    "            self.crear_ejercicio(\"\")\n",
    "        elif tema== \"Elipse\":\n",
    "            print(\"A la elipse la definimos como:\\n La elipse es el lugar geométrico de los puntos del plano cuya suma de distancias a dos puntos fijos llamados focos es constante, sus ecuaciones son (x-h)^2/a^2 +(y-k)^2/b^2=1 o (x-h)^2/b^2 +(y-k)^2/a^2=1 en ambos casoa a>b\")\n",
    "            self.crear_ejemplo(\"\")\n",
    "            self.crear_ejercicio(\"\")\n",
    "        elif tema==\"Hiperbola\":\n",
    "            print(\"A la hiperbola la defininimo como: Dados dos puntos F1 y F2 llamados focos, se denomina hipérbola al conjunto de puntos del plano tales que el valor absoluto de la diferencia de sus distancias a los focos es constante\\n sus ecuaciones quedan: (x-h)^2/a^2-(y-k)^2/b^2=1 o (x-h)^2/b^2-(y-k)^2/a^2=1 donde a<b o a>b o a=b\")\n",
    "            self.crear_ejemplo(\"\")\n",
    "            self.crear_ejercicio(\"\")\n",
    "        else:\n",
    "            print(f\"El tema: {tema},no se encuentra disponible\\n estos son los temas:\\n Vectores,Distanica_2_puntoa,Pendiente,Ecuaciones_recta,Catacteristicas_rectas_perpendiculares_paralelas,Circunferencia,Parabola,Elipse\")\n",
    "            \n",
    "            \n",
    "       \n",
    "                \n",
    "        \n",
    "            \n",
    "                  \n",
    "            \n",
    "            \n",
    "            \n",
    "\n"
   ]
  },
  {
   "cell_type": "code",
   "execution_count": 6,
   "metadata": {},
   "outputs": [],
   "source": [
    "class Física:\n",
    "    def __init__(self,Dinamica,Electromagnetismo,Optica,Mecanica,Magnetismo,Cinematica,Estatica,Termodinamica,Electricidad):\n",
    "        self.Dinamica={}\n",
    "        self.Electromagnetismo={}\n",
    "        self.Optica={}\n",
    "        self.Mecanica={}\n",
    "        self.Cinematica={}\n",
    "        self.Estatica={}\n",
    "        self.Termodinamica={}\n",
    "        self.Electricidad={}\n",
    "    \n",
    "        "
   ]
  },
  {
   "cell_type": "code",
   "execution_count": 4,
   "metadata": {},
   "outputs": [
    {
     "data": {
      "text/plain": [
       "17"
      ]
     },
     "execution_count": 4,
     "metadata": {},
     "output_type": "execute_result"
    }
   ],
   "source": [
    "from numpy.random import randint, random\n",
    "randint(1, 20)"
   ]
  },
  {
   "cell_type": "code",
   "execution_count": 24,
   "metadata": {},
   "outputs": [
    {
     "name": "stdout",
     "output_type": "stream",
     "text": [
      "33x^2-38x+42=46\n",
      "34x^2-10x+16=36\n",
      "5x^2-12x+45=1\n",
      "41x^2-32x+30=49\n",
      "49x^2-29x+4=30\n",
      "12x^2-35x+9=18\n",
      "25x^2-38x+39=38\n",
      "32x^2-31x+18=22\n",
      "11x^2-10x+2=33\n",
      "33x^2-7x+21=23\n"
     ]
    }
   ],
   "source": [
    "x=0\n",
    "while x!=10:\n",
    "    print( (str(randint(1,50)) + \"x^2\") +\"-\"+ (str(randint(1,50))+\"x\")+\"+\"+(str(randint(1,50)))+\"=\"+(str(randint(1,50))))\n",
    "    x=x+1\n",
    "    if x==10:\n",
    "        break"
   ]
  },
  {
   "cell_type": "code",
   "execution_count": 69,
   "metadata": {},
   "outputs": [
    {
     "name": "stdout",
     "output_type": "stream",
     "text": [
      "1x^*5x^/3x\n",
      "4x^*5x^/2x\n",
      "4x^*8x^/3x\n",
      "1x^*5x^/2x\n",
      "6x^*8x^/2x\n",
      "1x^*5x^/2x\n",
      "1x^*1x^/3x\n",
      "2x^*2x^/2x\n",
      "2x^*7x^/2x\n",
      "2x^*3x^/2x\n"
     ]
    }
   ],
   "source": [
    "x=0\n",
    "while x!=10:\n",
    "    print( (str(randint(1,10))+\"x^\") +\"*\"+ (str(randint(1,10))+ \"x^\")+\"/\"+(str(randint(2,4)))+ \"x\")\n",
    "    x=x+1\n",
    "    if x==10:\n",
    "        break"
   ]
  },
  {
   "cell_type": "code",
   "execution_count": 44,
   "metadata": {},
   "outputs": [
    {
     "name": "stdout",
     "output_type": "stream",
     "text": [
      "Estos son los tipos de factorización:\n",
      "Factor comun,Factor comun por agrupamiento,Trinomio cuadrado perfecto,Difernecia de cuadrados,Trinomios de la forma x^2+bx+c,Trinomio de la forma ax^2+bx+c,suma o diferncias de cubos perfectos,\n",
      "Para factorizar por factor comun se hace lo siguiente:se ve cual es el factor en comun de la ecucación, se saca de la ecuaicon multiplicando y a lo demas se le quita ese termino,\n",
      "trinomio de la forma x^2+bx+c=0 para este se tienen dos opciones una es abrir dos parentesis poner la raiz de x en ambos en el primer parentesis se coloca el signo del segundo temrino y en el segundo parentesis el signo del segundo termino por el singo del tecero y se buscan dos numeros que multiplicados den c y sumados b, si estos numeros no son faciles de encontrar se recomiendo aplicar la fomula general,trinomio de la forma ax^2+bx+c=0, esta factorizacion es parecida a la anterior solo que se buscan dos numeros que multipicados den a y el procedimiento sigue siendo el mismo\n",
      "Ejemplo\n",
      "Factorize la siguiente expresion: x^2+5x+6:\n",
      " se resuelve de la siguiente manera:\n",
      "(x+3)(x+2)\n",
      "-Realice los siguientes ejercicios:\n",
      "23x^2-14x+47=0\n",
      "36x^2-5x+7=0\n",
      "46x^2-42x+27=0\n",
      "37x^2-30x+2=0\n",
      "46x^2-39x+4=0\n",
      "45x^2-12x+32=0\n",
      "38x^2-2x+23=0\n",
      "24x^2-3x+40=0\n",
      "28x^2-28x+36=0\n",
      "45x^2-20x+5=0\n"
     ]
    }
   ],
   "source": [
    "leo=Mate() \n",
    "leo.Algebra1(\"Factorización\")\n"
   ]
  },
  {
   "cell_type": "markdown",
   "metadata": {},
   "source": [
    "randint\n",
    "rand()e[0,1]\n",
    "sym=\"+\" if rand()<0.5 else\"-\""
   ]
  },
  {
   "cell_type": "code",
   "execution_count": 21,
   "metadata": {},
   "outputs": [
    {
     "name": "stdout",
     "output_type": "stream",
     "text": [
      "La formula para sacar la distacnia entre dos puntos es la siguiente: ((x2-x2)^2+(y2-y1)^2)^1/2 \n"
     ]
    },
    {
     "ename": "AttributeError",
     "evalue": "'Mate' object has no attribute 'crear_ejemplo'",
     "output_type": "error",
     "traceback": [
      "\u001b[1;31m---------------------------------------------------------------------------\u001b[0m",
      "\u001b[1;31mAttributeError\u001b[0m                            Traceback (most recent call last)",
      "\u001b[1;32m<ipython-input-21-923ec0ee6572>\u001b[0m in \u001b[0;36m<module>\u001b[1;34m()\u001b[0m\n\u001b[0;32m      1\u001b[0m \u001b[0mAlexis\u001b[0m\u001b[1;33m=\u001b[0m\u001b[0mMate\u001b[0m\u001b[1;33m(\u001b[0m\u001b[1;33m)\u001b[0m\u001b[1;33m\u001b[0m\u001b[0m\n\u001b[1;32m----> 2\u001b[1;33m \u001b[0mAlexis\u001b[0m\u001b[1;33m.\u001b[0m\u001b[0mGeo_analitica1\u001b[0m\u001b[1;33m(\u001b[0m\u001b[1;34m\"Distancia_2_puntos\"\u001b[0m\u001b[1;33m)\u001b[0m\u001b[1;33m\u001b[0m\u001b[0m\n\u001b[0m",
      "\u001b[1;32m<ipython-input-18-fbf433a108a5>\u001b[0m in \u001b[0;36mGeo_analitica1\u001b[1;34m(self, tema)\u001b[0m\n\u001b[0;32m     67\u001b[0m         \u001b[1;32melif\u001b[0m \u001b[0mtema\u001b[0m\u001b[1;33m==\u001b[0m \u001b[1;34m\"Distancia_2_puntos\"\u001b[0m\u001b[1;33m:\u001b[0m\u001b[1;33m\u001b[0m\u001b[0m\n\u001b[0;32m     68\u001b[0m             \u001b[0mprint\u001b[0m\u001b[1;33m(\u001b[0m\u001b[1;34m\"La formula para sacar la distacnia entre dos puntos es la siguiente: ((x2-x2)^2+(y2-y1)^2)^1/2 \"\u001b[0m\u001b[1;33m)\u001b[0m\u001b[1;33m\u001b[0m\u001b[0m\n\u001b[1;32m---> 69\u001b[1;33m             \u001b[0mself\u001b[0m\u001b[1;33m.\u001b[0m\u001b[0mcrear_ejemplo\u001b[0m\u001b[1;33m(\u001b[0m\u001b[1;34m\"Encuentre la ditancia entre los puntos (2,5),(8,12) esto aplicando la formula es igual =\"\u001b[0m\u001b[1;33m[\u001b[0m\u001b[0mmath\u001b[0m\u001b[1;33m.\u001b[0m\u001b[0msqrt\u001b[0m\u001b[1;33m(\u001b[0m\u001b[1;33m(\u001b[0m\u001b[1;36m8\u001b[0m\u001b[1;33m-\u001b[0m\u001b[1;36m2\u001b[0m\u001b[1;33m)\u001b[0m\u001b[1;33m**\u001b[0m\u001b[1;36m2\u001b[0m \u001b[1;33m-\u001b[0m\u001b[1;33m(\u001b[0m\u001b[1;36m12\u001b[0m\u001b[1;33m-\u001b[0m\u001b[1;36m5\u001b[0m\u001b[1;33m)\u001b[0m\u001b[1;33m**\u001b[0m\u001b[1;36m2\u001b[0m\u001b[1;33m)\u001b[0m\u001b[1;33m]\u001b[0m\u001b[1;33m)\u001b[0m\u001b[1;33m\u001b[0m\u001b[0m\n\u001b[0m\u001b[0;32m     70\u001b[0m             \u001b[0mself\u001b[0m\u001b[1;33m.\u001b[0m\u001b[0mcrear_ejercicio\u001b[0m\u001b[1;33m(\u001b[0m\u001b[1;34m\"Encuentre la distancia entre los puntos: (-2,0),(3,9)\"\u001b[0m\u001b[1;33m)\u001b[0m\u001b[1;33m\u001b[0m\u001b[0m\n\u001b[0;32m     71\u001b[0m         \u001b[1;32melif\u001b[0m \u001b[0mtema\u001b[0m\u001b[1;33m==\u001b[0m\u001b[1;34m\"Pendiente\"\u001b[0m\u001b[1;33m:\u001b[0m\u001b[1;33m\u001b[0m\u001b[0m\n",
      "\u001b[1;31mAttributeError\u001b[0m: 'Mate' object has no attribute 'crear_ejemplo'"
     ]
    }
   ],
   "source": [
    "Alexis=Mate()\n",
    "Alexis.Geo_analitica1(\"Distancia_2_puntos\")"
   ]
  },
  {
   "cell_type": "code",
   "execution_count": null,
   "metadata": {},
   "outputs": [],
   "source": []
  }
 ],
 "metadata": {
  "kernelspec": {
   "display_name": "Python 3",
   "language": "python",
   "name": "python3"
  },
  "language_info": {
   "codemirror_mode": {
    "name": "ipython",
    "version": 3
   },
   "file_extension": ".py",
   "mimetype": "text/x-python",
   "name": "python",
   "nbconvert_exporter": "python",
   "pygments_lexer": "ipython3",
   "version": "3.7.0"
  }
 },
 "nbformat": 4,
 "nbformat_minor": 2
}
